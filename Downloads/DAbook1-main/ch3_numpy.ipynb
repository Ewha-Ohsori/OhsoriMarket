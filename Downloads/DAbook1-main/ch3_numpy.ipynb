{
 "cells": [
  {
   "cell_type": "code",
   "execution_count": 3,
   "metadata": {},
   "outputs": [
    {
     "name": "stdout",
     "output_type": "stream",
     "text": [
      "[1 2 3 4 5]\n"
     ]
    }
   ],
   "source": [
    "# 2.1 리스트로 배열 생성\n",
    "# 4-1. 1차원 배열(list)로 numpy 배열 생성\n",
    "import numpy as np\n",
    "arr=np.array([1,2,3,4,5])\n",
    "print(arr)"
   ]
  },
  {
   "cell_type": "code",
   "execution_count": 6,
   "metadata": {},
   "outputs": [
    {
     "name": "stdout",
     "output_type": "stream",
     "text": [
      "[[1 2 3]\n",
      " [4 5 6]]\n"
     ]
    }
   ],
   "source": [
    "# 4-2. 2차원 배열(list)로 numpy 배열 생성\n",
    "arr = np.array([[1,2,3],[4,5,6]]) # 두 튜플을 한 번 더 []로 감싸줘야 함\n",
    "print(arr)"
   ]
  },
  {
   "cell_type": "code",
   "execution_count": 7,
   "metadata": {},
   "outputs": [
    {
     "name": "stdout",
     "output_type": "stream",
     "text": [
      "[[[1 2 3]\n",
      "  [4 5 6]\n",
      "  [7 8 9]]\n",
      "\n",
      " [[1 2 3]\n",
      "  [4 5 6]\n",
      "  [7 8 9]]\n",
      "\n",
      " [[1 2 3]\n",
      "  [4 5 6]\n",
      "  [7 8 9]]]\n"
     ]
    }
   ],
   "source": [
    "# 4-3. 3차원 배열(list)로 numpy 배열 생성\n",
    "arr = np.array([[[1,2,3],[4,5,6],[7,8,9]],\n",
    "               [[1,2,3],[4,5,6],[7,8,9]],\n",
    "               [[1,2,3],[4,5,6],[7,8,9]]])\n",
    "print(arr)"
   ]
  },
  {
   "cell_type": "code",
   "execution_count": 8,
   "metadata": {},
   "outputs": [
    {
     "name": "stdout",
     "output_type": "stream",
     "text": [
      "[0. 0. 0. 0. 0. 0. 0. 0. 0. 0.]\n"
     ]
    }
   ],
   "source": [
    "# 2.2 배열 생성 및 초기화\n",
    "a = np.zeros(10)\n",
    "print(a)"
   ]
  },
  {
   "cell_type": "code",
   "execution_count": 9,
   "metadata": {},
   "outputs": [
    {
     "name": "stdout",
     "output_type": "stream",
     "text": [
      "[[0. 0. 0.]\n",
      " [0. 0. 0.]\n",
      " [0. 0. 0.]]\n"
     ]
    }
   ],
   "source": [
    "b = np.zeros((3,3))\n",
    "print(b)"
   ]
  },
  {
   "cell_type": "code",
   "execution_count": 10,
   "metadata": {},
   "outputs": [
    {
     "name": "stdout",
     "output_type": "stream",
     "text": [
      "[1. 1. 1. 1. 1. 1. 1. 1. 1. 1.]\n"
     ]
    }
   ],
   "source": [
    "a = np.ones(10)\n",
    "print(a)"
   ]
  },
  {
   "cell_type": "code",
   "execution_count": 11,
   "metadata": {},
   "outputs": [
    {
     "name": "stdout",
     "output_type": "stream",
     "text": [
      "[[1. 1. 1.]\n",
      " [1. 1. 1.]\n",
      " [1. 1. 1.]]\n"
     ]
    }
   ],
   "source": [
    "b = np.ones((3,3))\n",
    "print(b)"
   ]
  },
  {
   "cell_type": "code",
   "execution_count": 12,
   "metadata": {},
   "outputs": [
    {
     "name": "stdout",
     "output_type": "stream",
     "text": [
      "[[1.5 1.5 1.5]\n",
      " [1.5 1.5 1.5]\n",
      " [1.5 1.5 1.5]]\n"
     ]
    }
   ],
   "source": [
    "a = np.full((3,3),1.5)\n",
    "print(a)"
   ]
  },
  {
   "cell_type": "code",
   "execution_count": 13,
   "metadata": {},
   "outputs": [
    {
     "name": "stdout",
     "output_type": "stream",
     "text": [
      "[[1. 0. 0.]\n",
      " [0. 1. 0.]\n",
      " [0. 0. 1.]]\n"
     ]
    }
   ],
   "source": [
    "a = np.eye(3)\n",
    "print(a)"
   ]
  },
  {
   "cell_type": "markdown",
   "metadata": {},
   "source": [
    "### np.arrange() 함수 </br>\n",
    "numpy.arrange([start,],stop[,step,], dtype=None) </br>\n",
    "- start부터 stop 미만까지 step 간격으로 데이터 생성한 후 배열을 생성\n",
    "- 범위 내에서 간격을 기준 균등 간격의 배열\n",
    "- 요소의 개수가 아닌 데이터의 간격을 기준으로 배열 생성\n"
   ]
  },
  {
   "cell_type": "code",
   "execution_count": 15,
   "metadata": {},
   "outputs": [
    {
     "name": "stdout",
     "output_type": "stream",
     "text": [
      "[ 1  2  3  4  5  6  7  8  9 10 11 12 13 14 15 16 17 18 19 20]\n"
     ]
    }
   ],
   "source": [
    "# 2.3 생성한 값으로 배열 생성\n",
    "# 4-4 \n",
    "# arrange() : 정수 범위로 배열 생성\n",
    "a = np.arange(1,21)\n",
    "print(a)"
   ]
  },
  {
   "cell_type": "markdown",
   "metadata": {},
   "source": [
    "### np.linspace()\n",
    "- numpy.linspace(start,stop,num=50, endpoint=True, retstep=False, dtype = None) </br>\n",
    "- start부터 stop 범위에서 num개를 균일한 간격으로 데이터를 생성하고 배열을 만드는 함수\n",
    "- 요소 개수를 기준으로 균등 간격의 배열 생성"
   ]
  },
  {
   "cell_type": "code",
   "execution_count": 16,
   "metadata": {},
   "outputs": [
    {
     "name": "stdout",
     "output_type": "stream",
     "text": [
      "[ 0.   2.5  5.   7.5 10. ]\n"
     ]
    }
   ],
   "source": [
    "a = np.linspace(0,10,5)\n",
    "print(a)"
   ]
  },
  {
   "cell_type": "markdown",
   "metadata": {},
   "source": [
    "### np.logspace() \n",
    "numpy.logspace(start,stop, num=50, endpoint=True, base=10.0, dtype=None) </br>\n",
    "- 로그 스케일의 linspace 함수\n",
    "- 로그 스케일로 지정된 범위에서 num 개수만큼 균등간격으로 데이터 생성한 후 배열 생성\n"
   ]
  },
  {
   "cell_type": "code",
   "execution_count": 17,
   "metadata": {},
   "outputs": [
    {
     "name": "stdout",
     "output_type": "stream",
     "text": [
      "[ 10.          17.7827941   31.6227766   56.23413252 100.        ]\n"
     ]
    }
   ],
   "source": [
    "# 4-6 \n",
    "a = np.logspace(np.log10(10),np.log10(100),5)\n",
    "print(a)"
   ]
  },
  {
   "cell_type": "code",
   "execution_count": 18,
   "metadata": {},
   "outputs": [
    {
     "name": "stdout",
     "output_type": "stream",
     "text": [
      "[ 10.          17.7827941   31.6227766   56.23413252 100.        ]\n"
     ]
    }
   ],
   "source": [
    "a = np.logspace(1,2,5)\n",
    "print(a)"
   ]
  },
  {
   "cell_type": "markdown",
   "metadata": {},
   "source": []
  }
 ],
 "metadata": {
  "kernelspec": {
   "display_name": "myenv",
   "language": "python",
   "name": "myenv"
  },
  "language_info": {
   "codemirror_mode": {
    "name": "ipython",
    "version": 3
   },
   "file_extension": ".py",
   "mimetype": "text/x-python",
   "name": "python",
   "nbconvert_exporter": "python",
   "pygments_lexer": "ipython3",
   "version": "3.11.5"
  }
 },
 "nbformat": 4,
 "nbformat_minor": 2
}
