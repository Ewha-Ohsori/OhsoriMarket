{
 "cells": [
  {
   "cell_type": "markdown",
   "metadata": {},
   "source": [
    "tech blog : https://doleebest.tistory.com/55"
   ]
  },
  {
   "cell_type": "markdown",
   "metadata": {},
   "source": [
    "# 2.1 리스트로 배열 생성"
   ]
  },
  {
   "cell_type": "code",
   "execution_count": 3,
   "metadata": {},
   "outputs": [
    {
     "name": "stdout",
     "output_type": "stream",
     "text": [
      "[1 2 3 4 5]\n"
     ]
    }
   ],
   "source": [
    "# 4-1. 1차원 배열(list)로 numpy 배열 생성\n",
    "import numpy as np\n",
    "arr=np.array([1,2,3,4,5])\n",
    "print(arr)"
   ]
  },
  {
   "cell_type": "code",
   "execution_count": 6,
   "metadata": {},
   "outputs": [
    {
     "name": "stdout",
     "output_type": "stream",
     "text": [
      "[[1 2 3]\n",
      " [4 5 6]]\n"
     ]
    }
   ],
   "source": [
    "# 4-2. 2차원 배열(list)로 numpy 배열 생성\n",
    "arr = np.array([[1,2,3],[4,5,6]]) # 두 튜플을 한 번 더 []로 감싸줘야 함\n",
    "print(arr)"
   ]
  },
  {
   "cell_type": "code",
   "execution_count": 7,
   "metadata": {},
   "outputs": [
    {
     "name": "stdout",
     "output_type": "stream",
     "text": [
      "[[[1 2 3]\n",
      "  [4 5 6]\n",
      "  [7 8 9]]\n",
      "\n",
      " [[1 2 3]\n",
      "  [4 5 6]\n",
      "  [7 8 9]]\n",
      "\n",
      " [[1 2 3]\n",
      "  [4 5 6]\n",
      "  [7 8 9]]]\n"
     ]
    }
   ],
   "source": [
    "# 4-3. 3차원 배열(list)로 numpy 배열 생성\n",
    "arr = np.array([[[1,2,3],[4,5,6],[7,8,9]],\n",
    "               [[1,2,3],[4,5,6],[7,8,9]],\n",
    "               [[1,2,3],[4,5,6],[7,8,9]]])\n",
    "print(arr)"
   ]
  },
  {
   "cell_type": "markdown",
   "metadata": {},
   "source": [
    "# 2.2 배열 생성 및 초기화"
   ]
  },
  {
   "cell_type": "code",
   "execution_count": 8,
   "metadata": {},
   "outputs": [
    {
     "name": "stdout",
     "output_type": "stream",
     "text": [
      "[0. 0. 0. 0. 0. 0. 0. 0. 0. 0.]\n"
     ]
    }
   ],
   "source": [
    "a = np.zeros(10)\n",
    "print(a)"
   ]
  },
  {
   "cell_type": "code",
   "execution_count": 9,
   "metadata": {},
   "outputs": [
    {
     "name": "stdout",
     "output_type": "stream",
     "text": [
      "[[0. 0. 0.]\n",
      " [0. 0. 0.]\n",
      " [0. 0. 0.]]\n"
     ]
    }
   ],
   "source": [
    "b = np.zeros((3,3))\n",
    "print(b)"
   ]
  },
  {
   "cell_type": "code",
   "execution_count": 10,
   "metadata": {},
   "outputs": [
    {
     "name": "stdout",
     "output_type": "stream",
     "text": [
      "[1. 1. 1. 1. 1. 1. 1. 1. 1. 1.]\n"
     ]
    }
   ],
   "source": [
    "a = np.ones(10)\n",
    "print(a)"
   ]
  },
  {
   "cell_type": "code",
   "execution_count": 11,
   "metadata": {},
   "outputs": [
    {
     "name": "stdout",
     "output_type": "stream",
     "text": [
      "[[1. 1. 1.]\n",
      " [1. 1. 1.]\n",
      " [1. 1. 1.]]\n"
     ]
    }
   ],
   "source": [
    "b = np.ones((3,3))\n",
    "print(b)"
   ]
  },
  {
   "cell_type": "code",
   "execution_count": 12,
   "metadata": {},
   "outputs": [
    {
     "name": "stdout",
     "output_type": "stream",
     "text": [
      "[[1.5 1.5 1.5]\n",
      " [1.5 1.5 1.5]\n",
      " [1.5 1.5 1.5]]\n"
     ]
    }
   ],
   "source": [
    "a = np.full((3,3),1.5)\n",
    "print(a)"
   ]
  },
  {
   "cell_type": "code",
   "execution_count": 13,
   "metadata": {},
   "outputs": [
    {
     "name": "stdout",
     "output_type": "stream",
     "text": [
      "[[1. 0. 0.]\n",
      " [0. 1. 0.]\n",
      " [0. 0. 1.]]\n"
     ]
    }
   ],
   "source": [
    "a = np.eye(3)\n",
    "print(a)"
   ]
  },
  {
   "cell_type": "markdown",
   "metadata": {},
   "source": [
    "### np.arrange() 함수 </br>\n",
    "numpy.arrange([start,],stop[,step,], dtype=None) </br>\n",
    "- start부터 stop 미만까지 step 간격으로 데이터 생성한 후 배열을 생성\n",
    "- 범위 내에서 간격을 기준 균등 간격의 배열\n",
    "- 요소의 개수가 아닌 데이터의 간격을 기준으로 배열 생성\n"
   ]
  },
  {
   "cell_type": "code",
   "execution_count": 15,
   "metadata": {},
   "outputs": [
    {
     "name": "stdout",
     "output_type": "stream",
     "text": [
      "[ 1  2  3  4  5  6  7  8  9 10 11 12 13 14 15 16 17 18 19 20]\n"
     ]
    }
   ],
   "source": [
    "# 2.3 생성한 값으로 배열 생성\n",
    "# 4-4 \n",
    "# arrange() : 정수 범위로 배열 생성\n",
    "a = np.arange(1,21)\n",
    "print(a)"
   ]
  },
  {
   "cell_type": "markdown",
   "metadata": {},
   "source": [
    "### np.linspace()\n",
    "- numpy.linspace(start,stop,num=50, endpoint=True, retstep=False, dtype = None) </br>\n",
    "- start부터 stop 범위에서 num개를 균일한 간격으로 데이터를 생성하고 배열을 만드는 함수\n",
    "- 요소 개수를 기준으로 균등 간격의 배열 생성"
   ]
  },
  {
   "cell_type": "code",
   "execution_count": 16,
   "metadata": {},
   "outputs": [
    {
     "name": "stdout",
     "output_type": "stream",
     "text": [
      "[ 0.   2.5  5.   7.5 10. ]\n"
     ]
    }
   ],
   "source": [
    "a = np.linspace(0,10,5)\n",
    "print(a)"
   ]
  },
  {
   "cell_type": "markdown",
   "metadata": {},
   "source": [
    "### np.logspace() \n",
    "numpy.logspace(start,stop, num=50, endpoint=True, base=10.0, dtype=None) </br>\n",
    "- 로그 스케일의 linspace 함수\n",
    "- 로그 스케일로 지정된 범위에서 num 개수만큼 균등간격으로 데이터 생성한 후 배열 생성\n"
   ]
  },
  {
   "cell_type": "code",
   "execution_count": 17,
   "metadata": {},
   "outputs": [
    {
     "name": "stdout",
     "output_type": "stream",
     "text": [
      "[ 10.          17.7827941   31.6227766   56.23413252 100.        ]\n"
     ]
    }
   ],
   "source": [
    "# 4-6 \n",
    "a = np.logspace(np.log10(10),np.log10(100),5)\n",
    "print(a)"
   ]
  },
  {
   "cell_type": "code",
   "execution_count": 18,
   "metadata": {},
   "outputs": [
    {
     "name": "stdout",
     "output_type": "stream",
     "text": [
      "[ 10.          17.7827941   31.6227766   56.23413252 100.        ]\n"
     ]
    }
   ],
   "source": [
    "a = np.logspace(1,2,5)\n",
    "print(a)"
   ]
  },
  {
   "cell_type": "markdown",
   "metadata": {},
   "source": [
    "# 2.4 난수 기반으로 배열 생성\n",
    "numpy.random"
   ]
  },
  {
   "cell_type": "code",
   "execution_count": 20,
   "metadata": {},
   "outputs": [
    {
     "name": "stdout",
     "output_type": "stream",
     "text": [
      "0.9535235053742798\n"
     ]
    }
   ],
   "source": [
    "a=np.random.random()\n",
    "print(a)"
   ]
  },
  {
   "cell_type": "code",
   "execution_count": 22,
   "metadata": {},
   "outputs": [
    {
     "name": "stdout",
     "output_type": "stream",
     "text": [
      "[[0.59196888 0.68468625 0.2442402  0.6815715 ]\n",
      " [0.92795167 0.48239375 0.23077028 0.41880925]\n",
      " [0.44626693 0.29571064 0.24565092 0.10317056]\n",
      " [0.90879664 0.39993027 0.36119185 0.76402791]]\n"
     ]
    }
   ],
   "source": [
    "a=np.random.random((4,4))\n",
    "print(a)"
   ]
  },
  {
   "cell_type": "markdown",
   "metadata": {},
   "source": [
    "### randint()\n",
    "numpy.random.randint(low,high=None, size=None, dtype='l')</br>\n",
    "지정된 shape로 배열을 만들고 low부터 high 미만의 범위에서 정수 표본 추출"
   ]
  },
  {
   "cell_type": "code",
   "execution_count": 24,
   "metadata": {},
   "outputs": [
    {
     "name": "stdout",
     "output_type": "stream",
     "text": [
      "9\n"
     ]
    }
   ],
   "source": [
    "a=np.random.randint(1,10) # 1차원 배열 만들고, 1부터 10 미만의 범위에서 정수 표본 추출\n",
    "print(a)"
   ]
  },
  {
   "cell_type": "code",
   "execution_count": 25,
   "metadata": {},
   "outputs": [
    {
     "name": "stdout",
     "output_type": "stream",
     "text": [
      "[[4 1 8 8]\n",
      " [1 3 7 7]\n",
      " [7 5 3 2]\n",
      " [5 9 6 9]]\n"
     ]
    }
   ],
   "source": [
    "a = np.random.randint(1,10,(4,4))\n",
    "print(a)"
   ]
  },
  {
   "cell_type": "markdown",
   "metadata": {},
   "source": [
    "### rand() 함수\n",
    "numpy.random.rand(d0,d1, ..., dn) </br>\n",
    "- shape이 (d0,d1, ..., dn)인 배열 생성 후 난수로 초기화\n",
    "- 난수 : [0,1)의 균등 분포 (uniform distribution) 형상으로 표본 추출"
   ]
  },
  {
   "cell_type": "code",
   "execution_count": 26,
   "metadata": {},
   "outputs": [
    {
     "name": "stdout",
     "output_type": "stream",
     "text": [
      "[[0.51242059 0.14167609 0.13670487]\n",
      " [0.10776096 0.78895233 0.86982765]\n",
      " [0.06559343 0.63115054 0.48265979]]\n"
     ]
    }
   ],
   "source": [
    "# rand() : 균등분포를 고려한 랜덤한 수의 배열 생성\n",
    "a = np.random.rand(3,3)\n",
    "print(a)"
   ]
  },
  {
   "cell_type": "markdown",
   "metadata": {},
   "source": [
    "### randn() 함수\n",
    "numpy.random.randn(d0,d1, ... ,dn)\n",
    "- (d0,d1, ... ,dn) shape 배열 생성 후 난수로 초기화\n",
    "- 난수 : 표준 정규 분포(standard normal distribution) 에서 표본 추출\n"
   ]
  },
  {
   "cell_type": "code",
   "execution_count": 27,
   "metadata": {},
   "outputs": [
    {
     "name": "stdout",
     "output_type": "stream",
     "text": [
      "[[-0.45620621 -0.51407998  0.55664163]\n",
      " [-0.14189553 -1.25671518  0.37853542]\n",
      " [-0.25543915  0.42045563 -0.35586019]]\n"
     ]
    }
   ],
   "source": [
    "a = np.random.randn(3,3)\n",
    "print(a)"
   ]
  },
  {
   "cell_type": "markdown",
   "metadata": {},
   "source": [
    "# 3. 넘파이 배열 조회\n",
    "### 3.1 넘파이 표준 데이터 타입\n",
    "\n",
    "### 3.2 넘파일 배열 속성 정보"
   ]
  },
  {
   "cell_type": "code",
   "execution_count": 28,
   "metadata": {},
   "outputs": [
    {
     "name": "stdout",
     "output_type": "stream",
     "text": [
      "[1 2 3 4 5]\n"
     ]
    }
   ],
   "source": [
    "arr = np.arange(1,6)\n",
    "print(arr)"
   ]
  },
  {
   "cell_type": "code",
   "execution_count": 31,
   "metadata": {},
   "outputs": [
    {
     "name": "stdout",
     "output_type": "stream",
     "text": [
      "ndim : 1\n"
     ]
    }
   ],
   "source": [
    "print('ndim :' ,arr.ndim)"
   ]
  },
  {
   "cell_type": "code",
   "execution_count": 32,
   "metadata": {},
   "outputs": [
    {
     "name": "stdout",
     "output_type": "stream",
     "text": [
      "shape : (5,)\n"
     ]
    }
   ],
   "source": [
    "print('shape :',arr.shape)"
   ]
  },
  {
   "cell_type": "code",
   "execution_count": 33,
   "metadata": {},
   "outputs": [
    {
     "name": "stdout",
     "output_type": "stream",
     "text": [
      "dtype :  int64\n"
     ]
    }
   ],
   "source": [
    "print('dtype : ', arr.dtype)"
   ]
  },
  {
   "cell_type": "code",
   "execution_count": 34,
   "metadata": {},
   "outputs": [
    {
     "name": "stdout",
     "output_type": "stream",
     "text": [
      "size : 5\n"
     ]
    }
   ],
   "source": [
    "print('size :', arr.size)"
   ]
  },
  {
   "cell_type": "code",
   "execution_count": 35,
   "metadata": {},
   "outputs": [
    {
     "name": "stdout",
     "output_type": "stream",
     "text": [
      "itemsize :  8\n"
     ]
    }
   ],
   "source": [
    "print('itemsize : ', arr.itemsize) # 정수는 8바이트"
   ]
  },
  {
   "cell_type": "code",
   "execution_count": 36,
   "metadata": {},
   "outputs": [
    {
     "name": "stdout",
     "output_type": "stream",
     "text": [
      "nbytes :  40\n"
     ]
    }
   ],
   "source": [
    "print('nbytes : ', arr.nbytes)"
   ]
  },
  {
   "cell_type": "markdown",
   "metadata": {},
   "source": [
    "## 3.3 배열의 인덱싱"
   ]
  },
  {
   "cell_type": "code",
   "execution_count": 37,
   "metadata": {},
   "outputs": [
    {
     "name": "stdout",
     "output_type": "stream",
     "text": [
      "[0 1 2 3 4 5 6 7 8]\n",
      "0\n",
      "8\n",
      "[10  1  2  3  4  5  6  7  8]\n"
     ]
    }
   ],
   "source": [
    "# 4-12 : 1차원 배열의 인덱싱 및 변경\n",
    "a1 = np.arange(9) # 1차원 배열\n",
    "print(a1)\n",
    "print(a1[0])\n",
    "print(a1[-1])\n",
    "a1[0]=10 # 요소 변경\n",
    "print(a1)"
   ]
  },
  {
   "cell_type": "code",
   "execution_count": 38,
   "metadata": {},
   "outputs": [
    {
     "name": "stdout",
     "output_type": "stream",
     "text": [
      "[[0 1 2]\n",
      " [3 4 5]\n",
      " [6 7 8]]\n",
      "1\n",
      "5\n",
      "[[10  1  2]\n",
      " [ 3  4  5]\n",
      " [ 6  7  8]]\n"
     ]
    }
   ],
   "source": [
    "a2 = np.arange(9).reshape((3,3)) # 2차원 배열\n",
    "print(a2)\n",
    "print(a2[0,1]) # 1행 두번째 컬럼 요소 참조\n",
    "print(a2[1,2]) # 2행 세번째 컬럼 요소 참조\n",
    "a2[0,0] = 10 # 1행 첫번째 컬럼 업데이트\n",
    "print(a2)"
   ]
  },
  {
   "cell_type": "code",
   "execution_count": 40,
   "metadata": {},
   "outputs": [
    {
     "name": "stdout",
     "output_type": "stream",
     "text": [
      "[0 1 2 3 4 5]\n",
      "[0 1 2]\n",
      "[1 2 3 4 5]\n",
      "[4 5]\n",
      "[0 1 2]\n",
      "[0 2 4]\n",
      "[5 4 3 2 1 0]\n"
     ]
    }
   ],
   "source": [
    "# 4-14 : 일차원 배열의 슬라이싱\n",
    "a1 = np.arange(6)\n",
    "print(a1)\n",
    "print(a1[0:3])\n",
    "print(a1[1:])\n",
    "print(a1[-2:])\n",
    "print(a1[:-3])\n",
    "print(a1[::2]) # with a step size of 2\n",
    "print(a1[::-1])"
   ]
  },
  {
   "cell_type": "code",
   "execution_count": 41,
   "metadata": {},
   "outputs": [
    {
     "name": "stdout",
     "output_type": "stream",
     "text": [
      "[ 7  8  9 10 11 12]\n",
      "[[ 8  9 10 11]\n",
      " [14 15 16 17]]\n",
      "[13 14 15 16 17 18]\n",
      "[[ 1  2  3]\n",
      " [ 7  8  9]\n",
      " [13 14 15]]\n",
      "[[18 17 16 15 14 13]\n",
      " [24 23 22 21 20 19]]\n",
      "[[24 23 22 21 20 19]\n",
      " [18 17 16 15 14 13]\n",
      " [12 11 10  9  8  7]\n",
      " [ 6  5  4  3  2  1]]\n"
     ]
    }
   ],
   "source": [
    "# 4-15 : 2치원 배열의 슬라이싱\n",
    "a2 = np.arange(1,25).reshape((4,6))\n",
    "print(a2[1])\n",
    "print(a2[1:3,1:5])\n",
    "print(a2[2,:])\n",
    "print(a2[:3,:3])\n",
    "print(a2[2:,::-1])\n",
    "print(a2[::-1,::-1])"
   ]
  },
  {
   "cell_type": "markdown",
   "metadata": {},
   "source": [
    "### 3.5 Logical indexing "
   ]
  },
  {
   "cell_type": "code",
   "execution_count": 42,
   "metadata": {},
   "outputs": [
    {
     "name": "stdout",
     "output_type": "stream",
     "text": [
      "[1 2 3 4 5]\n",
      "[1 4]\n"
     ]
    }
   ],
   "source": [
    "# 4-16 boolean indexing : 배열 각 요소의 선택 여부 불린을 지정하는 방식, 해당 인덱스의 true만 조회한다.\n",
    "a = np.arange(1,6)\n",
    "print(a)\n",
    "b = [True, False, False, True, False]\n",
    "print(a[b])"
   ]
  },
  {
   "cell_type": "code",
   "execution_count": 44,
   "metadata": {},
   "outputs": [
    {
     "name": "stdout",
     "output_type": "stream",
     "text": [
      "[0 1 2 3 4]\n",
      "[ 5  6  7  8  9 10]\n",
      "[ 0  2  4  6  8 10]\n"
     ]
    }
   ],
   "source": [
    "# 불린 인덱싱 : 비교 연산자 이용\n",
    "a = np.arange(11)\n",
    "print(a[a<5])\n",
    "five_up = (a>=5)\n",
    "five_up\n",
    "print(a[five_up])\n",
    "divide_by_2 = a[a%2==0]\n",
    "print(divide_by_2)"
   ]
  },
  {
   "cell_type": "code",
   "execution_count": 45,
   "metadata": {},
   "outputs": [
    {
     "name": "stdout",
     "output_type": "stream",
     "text": [
      "[ 6  7  8  9 10]\n",
      "[10]\n",
      "[ 1  2  4  5  7  8 10]\n"
     ]
    }
   ],
   "source": [
    "# 4-18 : 관계 연산자 이용\n",
    "\n",
    "# 논리 연산자 이용 (&, |, ~)\n",
    "c = a[(a>5) & (a<11)] # and\n",
    "print(c)\n",
    "d = a[(a>9 | (a<5))] # or\n",
    "print(d)\n",
    "e = a[~(a%3==0)] # not\n",
    "print(e)"
   ]
  },
  {
   "cell_type": "markdown",
   "metadata": {},
   "source": [
    "# 4) 배열의 연산"
   ]
  },
  {
   "cell_type": "code",
   "execution_count": 46,
   "metadata": {},
   "outputs": [
    {
     "name": "stdout",
     "output_type": "stream",
     "text": [
      "[ 2  4  6  8 10 12 14 16 18 20]\n",
      "[ 2  4  6  8 10 12 14 16 18 20]\n",
      "[0 0 0 0 0 0 0 0 0 0]\n",
      "[0 0 0 0 0 0 0 0 0 0]\n",
      "[  1   4   9  16  25  36  49  64  81 100]\n",
      "[  1   4   9  16  25  36  49  64  81 100]\n",
      "[1. 1. 1. 1. 1. 1. 1. 1. 1. 1.]\n",
      "[1. 1. 1. 1. 1. 1. 1. 1. 1. 1.]\n"
     ]
    }
   ],
   "source": [
    "# 4-19 : 산술 연산 : 사칙연산 연산자와 함수 활용\n",
    "a = np.arange(1,11)\n",
    "b = np.arange(1,11)\n",
    "print(a+b)\n",
    "print(np.add(a,b)) # 덧셈 함수\n",
    "print(a-b)\n",
    "print(np.subtract(a,b)) # 뺄셈 함수\n",
    "print(a*b)\n",
    "print(np.multiply(a,b))\n",
    "print(a/b)\n",
    "print(np.divide(a,b)) # 나눗셈 함수"
   ]
  },
  {
   "cell_type": "code",
   "execution_count": 47,
   "metadata": {},
   "outputs": [
    {
     "name": "stdout",
     "output_type": "stream",
     "text": [
      "[2.71828183e+00 7.38905610e+00 2.00855369e+01 5.45981500e+01\n",
      " 1.48413159e+02 4.03428793e+02 1.09663316e+03 2.98095799e+03\n",
      " 8.10308393e+03 2.20264658e+04]\n",
      "[1.         1.41421356 1.73205081 2.         2.23606798 2.44948974\n",
      " 2.64575131 2.82842712 3.         3.16227766]\n",
      "[ 0.84147098  0.90929743  0.14112001 -0.7568025  -0.95892427 -0.2794155\n",
      "  0.6569866   0.98935825  0.41211849 -0.54402111]\n",
      "[ 0.54030231 -0.41614684 -0.9899925  -0.65364362  0.28366219  0.96017029\n",
      "  0.75390225 -0.14550003 -0.91113026 -0.83907153]\n",
      "[ 1.55740772 -2.18503986 -0.14254654  1.15782128 -3.38051501 -0.29100619\n",
      "  0.87144798 -6.79971146 -0.45231566  0.64836083]\n",
      "[0.         0.69314718 1.09861229 1.38629436 1.60943791 1.79175947\n",
      " 1.94591015 2.07944154 2.19722458 2.30258509]\n"
     ]
    }
   ],
   "source": [
    "# 4-20 기타 연산 : 지수/제곱근/sin/cos/tan/log\n",
    "a = np.arange(1,11)\n",
    "print(np.exp(a)) \n",
    "print(np.sqrt(a))\n",
    "print(np.sin(a))\n",
    "print(np.cos(a))\n",
    "print(np.tan(a))\n",
    "print(np.log(a))"
   ]
  },
  {
   "cell_type": "markdown",
   "metadata": {},
   "source": [
    "## 집계 함수"
   ]
  },
  {
   "cell_type": "code",
   "execution_count": 50,
   "metadata": {},
   "outputs": [
    {
     "name": "stdout",
     "output_type": "stream",
     "text": [
      "45\n",
      "45\n",
      "[[1 2 3]\n",
      " [4 5 6]\n",
      " [7 8 9]]\n",
      "[12 15 18]\n",
      "[ 6 15 24]\n"
     ]
    }
   ],
   "source": [
    "# 4-21 [ndarray 배열 객체].sum(), np.sum()\n",
    "a = np.arange(1,10).reshape(3,3)\n",
    "print(a.sum())\n",
    "print(np.sum(a)) # 둘이 같은 표현\n",
    "\n",
    "print(a)\n",
    "\n",
    "b = a.sum(axis=0)\n",
    "print(b)\n",
    "\n",
    "c = a.sum(axis=1)\n",
    "print(c)"
   ]
  },
  {
   "cell_type": "code",
   "execution_count": 52,
   "metadata": {},
   "outputs": [
    {
     "name": "stdout",
     "output_type": "stream",
     "text": [
      "[[1 2 3]\n",
      " [4 5 6]\n",
      " [7 8 9]]\n",
      "9 9\n",
      "[7 8 9] [7 8 9]\n",
      "[3 6 9] [3 6 9]\n"
     ]
    }
   ],
   "source": [
    "# 4-22 최댓값 : [ndarray 배열 객체].max(), np.max()\n",
    "a = np.arange(1,10).reshape(3,3)\n",
    "print(a)\n",
    "print(a.max(), np.max(a))\n",
    "print(a.max(axis=0), np.max(a,axis=0))\n",
    "print(a.max(axis=1), np.max(a,axis=1))"
   ]
  },
  {
   "cell_type": "markdown",
   "metadata": {},
   "source": [
    "## 4.2 브로드캐스팅 연산\n",
    "\n",
    "shape가 다른 두 배열 사이의 이항 연산에서 브로드캐스팅 발생 </br>\n",
    "두 배열을 같은 shape로 만든 후 연산을 수행\n"
   ]
  },
  {
   "cell_type": "code",
   "execution_count": 53,
   "metadata": {},
   "outputs": [
    {
     "name": "stdout",
     "output_type": "stream",
     "text": [
      "[2 3 4 5 6]\n",
      "[2 3 4 5 6]\n"
     ]
    }
   ],
   "source": [
    "# 브로드캐스팅 사용하지 않은 경우\n",
    "x = np.array([1,2,3,4,5])\n",
    "y = np.array([1,1,1,1,1])\n",
    "print(x+y)\n",
    "\n",
    "# 브로드캐스팅을 사용한 경우\n",
    "y=1\n",
    "print(x+y)"
   ]
  },
  {
   "cell_type": "code",
   "execution_count": 54,
   "metadata": {},
   "outputs": [
    {
     "name": "stdout",
     "output_type": "stream",
     "text": [
      "[[101 102 103 104 105 106]\n",
      " [107 108 109 110 111 112]\n",
      " [113 114 115 116 117 118]\n",
      " [119 120 121 122 123 124]]\n",
      "[[100 100 100 100 100 100]\n",
      " [100 100 100 100 100 100]\n",
      " [100 100 100 100 100 100]\n",
      " [100 100 100 100 100 100]]\n",
      "[[101 102 103 104 105 106]\n",
      " [107 108 109 110 111 112]\n",
      " [113 114 115 116 117 118]\n",
      " [119 120 121 122 123 124]]\n"
     ]
    }
   ],
   "source": [
    "# case 1 : 배열과 스칼라\n",
    "# shape가 다른 두 배열의 연산\n",
    "a = np.arange(1,25).reshape(4,6)\n",
    "print(a+100) # 브로드캐스팅\n",
    "\n",
    "# step 1 : 스칼라 배열 변경\n",
    "new_arr = np.full_like(a,100)\n",
    "print(new_arr)\n",
    "\n",
    "# step 2 : 배열 이항 연산\n",
    "print(a+new_arr)"
   ]
  },
  {
   "cell_type": "code",
   "execution_count": 55,
   "metadata": {},
   "outputs": [
    {
     "name": "stdout",
     "output_type": "stream",
     "text": [
      "[[0 1 2 3 4]]\n",
      "[[0]\n",
      " [1]\n",
      " [2]\n",
      " [3]\n",
      " [4]]\n",
      "[[0 1 2 3 4]\n",
      " [1 2 3 4 5]\n",
      " [2 3 4 5 6]\n",
      " [3 4 5 6 7]\n",
      " [4 5 6 7 8]]\n"
     ]
    }
   ],
   "source": [
    "# case 2 : shape가 다른 배열들의 연산\n",
    "a = np.arange(5).reshape((1,5))\n",
    "print(a)\n",
    "b = np.arange(5).reshape((5,1))\n",
    "print(b)\n",
    "print(a+b) # broadcasting"
   ]
  },
  {
   "cell_type": "markdown",
   "metadata": {},
   "source": [
    "### 4.3 벡터 연산\n",
    "배열 처리에 대한 벡터 연산을 적용할 경우 처리 속도가 100배 이상 향상된다.\n",
    "\n",
    "### 5. 배열 변환\n",
    "전치 : 행렬의 인덱스가 바뀌는 변환."
   ]
  },
  {
   "cell_type": "code",
   "execution_count": 56,
   "metadata": {},
   "outputs": [
    {
     "name": "stdout",
     "output_type": "stream",
     "text": [
      "[[5 3 2]\n",
      " [3 7 4]\n",
      " [7 2 8]]\n",
      "[[5 3 7]\n",
      " [3 7 2]\n",
      " [2 4 8]]\n"
     ]
    }
   ],
   "source": [
    "# 5.1 전치\n",
    "a = np.random.randint(1,10,(3,3))\n",
    "print(a)\n",
    "print(a.T) # 전치 행렬"
   ]
  },
  {
   "cell_type": "markdown",
   "metadata": {},
   "source": [
    "### 5.2 배열 형태 변경 "
   ]
  },
  {
   "cell_type": "code",
   "execution_count": 57,
   "metadata": {},
   "outputs": [
    {
     "name": "stdout",
     "output_type": "stream",
     "text": [
      "[[1 2 3]\n",
      " [4 5 6]]\n",
      "[10  2  3  4  5  6]\n",
      "[[10  2  3]\n",
      " [ 4  5  6]]\n"
     ]
    }
   ],
   "source": [
    "# 4-31 배열을 1차원 배열로 변환\n",
    "a = np.array([[1,2,3],[4,5,6]])\n",
    "print(a)\n",
    "a.ravel()\n",
    "b= a.ravel()\n",
    "b[0]= 10\n",
    "print(b)\n",
    "print(a) # b 배열 변경이 a 행렬에 반영됨"
   ]
  },
  {
   "cell_type": "markdown",
   "metadata": {},
   "source": [
    "[numpy.ndarray 객체].reshape() </br>\n"
   ]
  },
  {
   "cell_type": "markdown",
   "metadata": {},
   "source": [
    "# 연습문제"
   ]
  },
  {
   "cell_type": "code",
   "execution_count": 60,
   "metadata": {},
   "outputs": [
    {
     "name": "stdout",
     "output_type": "stream",
     "text": [
      "[ 1  2  3  4  5  6  7  8  9 10]\n",
      "ndim: 1\n",
      "(10,)\n",
      "int64\n",
      "size: 10\n"
     ]
    }
   ],
   "source": [
    "# 연습 01\n",
    "arr = np.arange(1,11)\n",
    "print(arr)\n",
    "print('ndim:',arr.ndim)\n",
    "print(arr.shape)\n",
    "print(arr.dtype)\n",
    "print('size:',arr.size)"
   ]
  },
  {
   "cell_type": "code",
   "execution_count": 68,
   "metadata": {},
   "outputs": [
    {
     "name": "stdout",
     "output_type": "stream",
     "text": [
      "[10 11 12 13 14 15 16 17 18 19 20 21 22 23 24 25 26 27 28 29 30 31 32 33\n",
      " 34 35 36 37 38 39 40 41 42 43 44 45 46 47 48 49 50]\n"
     ]
    }
   ],
   "source": [
    "# 연습 02-1\n",
    "arr = np.arange(10,51)\n",
    "print(arr.ravel())"
   ]
  },
  {
   "cell_type": "code",
   "execution_count": 69,
   "metadata": {},
   "outputs": [
    {
     "name": "stdout",
     "output_type": "stream",
     "text": [
      "0.9997372883611193\n",
      "0.005974813979143789\n"
     ]
    }
   ],
   "source": [
    "# 연습 02-2\n",
    "arr = np.random.random((10,10))\n",
    "print(arr.max())\n",
    "print(arr.min())"
   ]
  },
  {
   "cell_type": "code",
   "execution_count": 71,
   "metadata": {},
   "outputs": [
    {
     "name": "stdout",
     "output_type": "stream",
     "text": [
      "[[0 1 2]\n",
      " [3 4 5]\n",
      " [6 7 8]]\n"
     ]
    }
   ],
   "source": [
    "# 연습 02-3\n",
    "arr = np.arange(0,9).reshape(3,3)\n",
    "print(arr)"
   ]
  },
  {
   "cell_type": "code",
   "execution_count": 72,
   "metadata": {},
   "outputs": [
    {
     "name": "stdout",
     "output_type": "stream",
     "text": [
      "[[ 1  2  3  4  5  6]\n",
      " [ 7  8  9 10 11 12]\n",
      " [13 14 15 16 17 18]\n",
      " [19 20 21 22 23 24]]\n"
     ]
    }
   ],
   "source": [
    "# 02-4\n",
    "arr = np.arange(1,25).reshape(4,6)\n",
    "print(arr)"
   ]
  },
  {
   "cell_type": "code",
   "execution_count": 82,
   "metadata": {},
   "outputs": [
    {
     "name": "stdout",
     "output_type": "stream",
     "text": [
      "[[ 8  9 10 11]\n",
      " [14 15 16 17]]\n"
     ]
    }
   ],
   "source": [
    "# 02-5\n",
    "arr = np.arange(1,25).reshape(4,6)\n",
    "print(arr[1:3,1:5])"
   ]
  },
  {
   "cell_type": "code",
   "execution_count": 87,
   "metadata": {},
   "outputs": [
    {
     "name": "stdout",
     "output_type": "stream",
     "text": [
      "[[18 17 16 15 14 13]\n",
      " [24 23 22 21 20 19]]\n"
     ]
    }
   ],
   "source": [
    "# 02-6\n",
    "arr = np.arange(1,25).reshape(4,6)\n",
    "print(arr[2::,::-1])"
   ]
  },
  {
   "cell_type": "code",
   "execution_count": 88,
   "metadata": {},
   "outputs": [
    {
     "name": "stdout",
     "output_type": "stream",
     "text": [
      "[ 2  4  6  8 10 12 14 16 18 20 22 24]\n"
     ]
    }
   ],
   "source": [
    "# 02-7\n",
    "print(arr[arr%2==0])"
   ]
  },
  {
   "cell_type": "code",
   "execution_count": 90,
   "metadata": {},
   "outputs": [
    {
     "name": "stdout",
     "output_type": "stream",
     "text": [
      "[10 11 12 13 14 15 16 17 18 19 20]\n"
     ]
    }
   ],
   "source": [
    "# 02-8\n",
    "print(arr[(arr>=10) & (arr<21)]) # 소괄호를 쳐줘야함!"
   ]
  },
  {
   "cell_type": "code",
   "execution_count": 92,
   "metadata": {},
   "outputs": [
    {
     "name": "stdout",
     "output_type": "stream",
     "text": [
      "20\n",
      "210\n",
      "10.5\n"
     ]
    }
   ],
   "source": [
    "# 02-9 ??\n",
    "import numpy as np\n",
    "arr = np.arange(1,21)\n",
    "print(arr[-1])\n",
    "print(sum(arr))\n",
    "print(sum(arr)/20)\n",
    "# new_arr = \n",
    "print(new_arr)"
   ]
  },
  {
   "cell_type": "code",
   "execution_count": 95,
   "metadata": {},
   "outputs": [
    {
     "name": "stdout",
     "output_type": "stream",
     "text": [
      "인상된 금액 [300. 225. 270. 330. 375.]\n",
      "평균 금액 :  300.0\n",
      "[300. 330. 375.]\n"
     ]
    },
    {
     "ename": "IndexError",
     "evalue": "arrays used as indices must be of integer (or boolean) type",
     "output_type": "error",
     "traceback": [
      "\u001b[0;31m---------------------------------------------------------------------------\u001b[0m",
      "\u001b[0;31mIndexError\u001b[0m                                Traceback (most recent call last)",
      "Cell \u001b[0;32mIn[95], line 10\u001b[0m\n\u001b[1;32m      8\u001b[0m result \u001b[38;5;241m=\u001b[39m new_salary[new_salary\u001b[38;5;241m>\u001b[39m\u001b[38;5;241m=\u001b[39mavg_salary]\n\u001b[1;32m      9\u001b[0m \u001b[38;5;28mprint\u001b[39m(result)\n\u001b[0;32m---> 10\u001b[0m \u001b[38;5;28mprint\u001b[39m(\u001b[38;5;124m'\u001b[39m\u001b[38;5;124m평균 이상인 원소 : \u001b[39m\u001b[38;5;124m'\u001b[39m, new_salary[result])\n\u001b[1;32m     11\u001b[0m \u001b[38;5;28mprint\u001b[39m(\u001b[38;5;124m'\u001b[39m\u001b[38;5;124m평균 이상인 원소의 개수 : \u001b[39m\u001b[38;5;124m'\u001b[39m, size(new_salary))\n",
      "\u001b[0;31mIndexError\u001b[0m: arrays used as indices must be of integer (or boolean) type"
     ]
    }
   ],
   "source": [
    "# 02-10\n",
    "import numpy as np\n",
    "salary = [200,150,180,220,250]\n",
    "new_salary = np.array(salary,dtype='float64')*1.5\n",
    "print('인상된 금액', new_salary)\n",
    "avg_salary = sum(new_salary)/5\n",
    "print('평균 금액 : ', avg_salary)\n",
    "result = new_salary[new_salary>=avg_salary]\n",
    "print('평균 이상인 원소 : ', new_salary[result])\n",
    "print('평균 이상인 원소의 개수 : ', size(new_salary))"
   ]
  },
  {
   "cell_type": "code",
   "execution_count": null,
   "metadata": {},
   "outputs": [],
   "source": []
  }
 ],
 "metadata": {
  "kernelspec": {
   "display_name": "myenv",
   "language": "python",
   "name": "myenv"
  },
  "language_info": {
   "codemirror_mode": {
    "name": "ipython",
    "version": 3
   },
   "file_extension": ".py",
   "mimetype": "text/x-python",
   "name": "python",
   "nbconvert_exporter": "python",
   "pygments_lexer": "ipython3",
   "version": "3.11.5"
  }
 },
 "nbformat": 4,
 "nbformat_minor": 2
}
