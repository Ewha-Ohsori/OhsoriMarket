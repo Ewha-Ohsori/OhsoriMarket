{
 "cells": [
  {
   "cell_type": "markdown",
   "metadata": {},
   "source": [
    "tech blog : https://doleebest.tistory.com/55"
   ]
  },
  {
   "cell_type": "markdown",
   "metadata": {},
   "source": [
    "# 2.1 리스트로 배열 생성"
   ]
  },
  {
   "cell_type": "code",
   "execution_count": 3,
   "metadata": {},
   "outputs": [
    {
     "name": "stdout",
     "output_type": "stream",
     "text": [
      "[1 2 3 4 5]\n"
     ]
    }
   ],
   "source": [
    "# 4-1. 1차원 배열(list)로 numpy 배열 생성\n",
    "import numpy as np\n",
    "arr=np.array([1,2,3,4,5])\n",
    "print(arr)"
   ]
  },
  {
   "cell_type": "code",
   "execution_count": 6,
   "metadata": {},
   "outputs": [
    {
     "name": "stdout",
     "output_type": "stream",
     "text": [
      "[[1 2 3]\n",
      " [4 5 6]]\n"
     ]
    }
   ],
   "source": [
    "# 4-2. 2차원 배열(list)로 numpy 배열 생성\n",
    "arr = np.array([[1,2,3],[4,5,6]]) # 두 튜플을 한 번 더 []로 감싸줘야 함\n",
    "print(arr)"
   ]
  },
  {
   "cell_type": "code",
   "execution_count": 7,
   "metadata": {},
   "outputs": [
    {
     "name": "stdout",
     "output_type": "stream",
     "text": [
      "[[[1 2 3]\n",
      "  [4 5 6]\n",
      "  [7 8 9]]\n",
      "\n",
      " [[1 2 3]\n",
      "  [4 5 6]\n",
      "  [7 8 9]]\n",
      "\n",
      " [[1 2 3]\n",
      "  [4 5 6]\n",
      "  [7 8 9]]]\n"
     ]
    }
   ],
   "source": [
    "# 4-3. 3차원 배열(list)로 numpy 배열 생성\n",
    "arr = np.array([[[1,2,3],[4,5,6],[7,8,9]],\n",
    "               [[1,2,3],[4,5,6],[7,8,9]],\n",
    "               [[1,2,3],[4,5,6],[7,8,9]]])\n",
    "print(arr)"
   ]
  },
  {
   "cell_type": "markdown",
   "metadata": {},
   "source": [
    "# 2.2 배열 생성 및 초기화"
   ]
  },
  {
   "cell_type": "code",
   "execution_count": 8,
   "metadata": {},
   "outputs": [
    {
     "name": "stdout",
     "output_type": "stream",
     "text": [
      "[0. 0. 0. 0. 0. 0. 0. 0. 0. 0.]\n"
     ]
    }
   ],
   "source": [
    "a = np.zeros(10)\n",
    "print(a)"
   ]
  },
  {
   "cell_type": "code",
   "execution_count": 9,
   "metadata": {},
   "outputs": [
    {
     "name": "stdout",
     "output_type": "stream",
     "text": [
      "[[0. 0. 0.]\n",
      " [0. 0. 0.]\n",
      " [0. 0. 0.]]\n"
     ]
    }
   ],
   "source": [
    "b = np.zeros((3,3))\n",
    "print(b)"
   ]
  },
  {
   "cell_type": "code",
   "execution_count": 10,
   "metadata": {},
   "outputs": [
    {
     "name": "stdout",
     "output_type": "stream",
     "text": [
      "[1. 1. 1. 1. 1. 1. 1. 1. 1. 1.]\n"
     ]
    }
   ],
   "source": [
    "a = np.ones(10)\n",
    "print(a)"
   ]
  },
  {
   "cell_type": "code",
   "execution_count": 11,
   "metadata": {},
   "outputs": [
    {
     "name": "stdout",
     "output_type": "stream",
     "text": [
      "[[1. 1. 1.]\n",
      " [1. 1. 1.]\n",
      " [1. 1. 1.]]\n"
     ]
    }
   ],
   "source": [
    "b = np.ones((3,3))\n",
    "print(b)"
   ]
  },
  {
   "cell_type": "code",
   "execution_count": 12,
   "metadata": {},
   "outputs": [
    {
     "name": "stdout",
     "output_type": "stream",
     "text": [
      "[[1.5 1.5 1.5]\n",
      " [1.5 1.5 1.5]\n",
      " [1.5 1.5 1.5]]\n"
     ]
    }
   ],
   "source": [
    "a = np.full((3,3),1.5)\n",
    "print(a)"
   ]
  },
  {
   "cell_type": "code",
   "execution_count": 13,
   "metadata": {},
   "outputs": [
    {
     "name": "stdout",
     "output_type": "stream",
     "text": [
      "[[1. 0. 0.]\n",
      " [0. 1. 0.]\n",
      " [0. 0. 1.]]\n"
     ]
    }
   ],
   "source": [
    "a = np.eye(3)\n",
    "print(a)"
   ]
  },
  {
   "cell_type": "markdown",
   "metadata": {},
   "source": [
    "### np.arrange() 함수 </br>\n",
    "numpy.arrange([start,],stop[,step,], dtype=None) </br>\n",
    "- start부터 stop 미만까지 step 간격으로 데이터 생성한 후 배열을 생성\n",
    "- 범위 내에서 간격을 기준 균등 간격의 배열\n",
    "- 요소의 개수가 아닌 데이터의 간격을 기준으로 배열 생성\n"
   ]
  },
  {
   "cell_type": "code",
   "execution_count": 15,
   "metadata": {},
   "outputs": [
    {
     "name": "stdout",
     "output_type": "stream",
     "text": [
      "[ 1  2  3  4  5  6  7  8  9 10 11 12 13 14 15 16 17 18 19 20]\n"
     ]
    }
   ],
   "source": [
    "# 2.3 생성한 값으로 배열 생성\n",
    "# 4-4 \n",
    "# arrange() : 정수 범위로 배열 생성\n",
    "a = np.arange(1,21)\n",
    "print(a)"
   ]
  },
  {
   "cell_type": "markdown",
   "metadata": {},
   "source": [
    "### np.linspace()\n",
    "- numpy.linspace(start,stop,num=50, endpoint=True, retstep=False, dtype = None) </br>\n",
    "- start부터 stop 범위에서 num개를 균일한 간격으로 데이터를 생성하고 배열을 만드는 함수\n",
    "- 요소 개수를 기준으로 균등 간격의 배열 생성"
   ]
  },
  {
   "cell_type": "code",
   "execution_count": 16,
   "metadata": {},
   "outputs": [
    {
     "name": "stdout",
     "output_type": "stream",
     "text": [
      "[ 0.   2.5  5.   7.5 10. ]\n"
     ]
    }
   ],
   "source": [
    "a = np.linspace(0,10,5)\n",
    "print(a)"
   ]
  },
  {
   "cell_type": "markdown",
   "metadata": {},
   "source": [
    "### np.logspace() \n",
    "numpy.logspace(start,stop, num=50, endpoint=True, base=10.0, dtype=None) </br>\n",
    "- 로그 스케일의 linspace 함수\n",
    "- 로그 스케일로 지정된 범위에서 num 개수만큼 균등간격으로 데이터 생성한 후 배열 생성\n"
   ]
  },
  {
   "cell_type": "code",
   "execution_count": 17,
   "metadata": {},
   "outputs": [
    {
     "name": "stdout",
     "output_type": "stream",
     "text": [
      "[ 10.          17.7827941   31.6227766   56.23413252 100.        ]\n"
     ]
    }
   ],
   "source": [
    "# 4-6 \n",
    "a = np.logspace(np.log10(10),np.log10(100),5)\n",
    "print(a)"
   ]
  },
  {
   "cell_type": "code",
   "execution_count": 18,
   "metadata": {},
   "outputs": [
    {
     "name": "stdout",
     "output_type": "stream",
     "text": [
      "[ 10.          17.7827941   31.6227766   56.23413252 100.        ]\n"
     ]
    }
   ],
   "source": [
    "a = np.logspace(1,2,5)\n",
    "print(a)"
   ]
  },
  {
   "cell_type": "markdown",
   "metadata": {},
   "source": [
    "# 2.4 난수 기반으로 배열 생성\n",
    "numpy.random"
   ]
  },
  {
   "cell_type": "code",
   "execution_count": 20,
   "metadata": {},
   "outputs": [
    {
     "name": "stdout",
     "output_type": "stream",
     "text": [
      "0.9535235053742798\n"
     ]
    }
   ],
   "source": [
    "a=np.random.random()\n",
    "print(a)"
   ]
  },
  {
   "cell_type": "code",
   "execution_count": 22,
   "metadata": {},
   "outputs": [
    {
     "name": "stdout",
     "output_type": "stream",
     "text": [
      "[[0.59196888 0.68468625 0.2442402  0.6815715 ]\n",
      " [0.92795167 0.48239375 0.23077028 0.41880925]\n",
      " [0.44626693 0.29571064 0.24565092 0.10317056]\n",
      " [0.90879664 0.39993027 0.36119185 0.76402791]]\n"
     ]
    }
   ],
   "source": [
    "a=np.random.random((4,4))\n",
    "print(a)"
   ]
  },
  {
   "cell_type": "markdown",
   "metadata": {},
   "source": [
    "### randint()\n",
    "numpy.random.randint(low,high=None, size=None, dtype='l')</br>\n",
    "지정된 shape로 배열을 만들고 low부터 high 미만의 범위에서 정수 표본 추출"
   ]
  },
  {
   "cell_type": "code",
   "execution_count": 24,
   "metadata": {},
   "outputs": [
    {
     "name": "stdout",
     "output_type": "stream",
     "text": [
      "9\n"
     ]
    }
   ],
   "source": [
    "a=np.random.randint(1,10) # 1차원 배열 만들고, 1부터 10 미만의 범위에서 정수 표본 추출\n",
    "print(a)"
   ]
  },
  {
   "cell_type": "code",
   "execution_count": 25,
   "metadata": {},
   "outputs": [
    {
     "name": "stdout",
     "output_type": "stream",
     "text": [
      "[[4 1 8 8]\n",
      " [1 3 7 7]\n",
      " [7 5 3 2]\n",
      " [5 9 6 9]]\n"
     ]
    }
   ],
   "source": [
    "a = np.random.randint(1,10,(4,4))\n",
    "print(a)"
   ]
  },
  {
   "cell_type": "markdown",
   "metadata": {},
   "source": [
    "### rand() 함수\n",
    "numpy.random.rand(d0,d1, ..., dn) </br>\n",
    "- shape이 (d0,d1, ..., dn)인 배열 생성 후 난수로 초기화\n",
    "- 난수 : [0,1)의 균등 분포 (uniform distribution) 형상으로 표본 추출"
   ]
  },
  {
   "cell_type": "code",
   "execution_count": 26,
   "metadata": {},
   "outputs": [
    {
     "name": "stdout",
     "output_type": "stream",
     "text": [
      "[[0.51242059 0.14167609 0.13670487]\n",
      " [0.10776096 0.78895233 0.86982765]\n",
      " [0.06559343 0.63115054 0.48265979]]\n"
     ]
    }
   ],
   "source": [
    "# rand() : 균등분포를 고려한 랜덤한 수의 배열 생성\n",
    "a = np.random.rand(3,3)\n",
    "print(a)"
   ]
  },
  {
   "cell_type": "markdown",
   "metadata": {},
   "source": [
    "### randn() 함수\n",
    "numpy.random.randn(d0,d1, ... ,dn)\n",
    "- (d0,d1, ... ,dn) shape 배열 생성 후 난수로 초기화\n",
    "- 난수 : 표준 정규 분포(standard normal distribution) 에서 표본 추출\n"
   ]
  },
  {
   "cell_type": "code",
   "execution_count": 27,
   "metadata": {},
   "outputs": [
    {
     "name": "stdout",
     "output_type": "stream",
     "text": [
      "[[-0.45620621 -0.51407998  0.55664163]\n",
      " [-0.14189553 -1.25671518  0.37853542]\n",
      " [-0.25543915  0.42045563 -0.35586019]]\n"
     ]
    }
   ],
   "source": [
    "a = np.random.randn(3,3)\n",
    "print(a)"
   ]
  },
  {
   "cell_type": "markdown",
   "metadata": {},
   "source": [
    "# 3. 넘파이 배열 조회\n",
    "### 3.1 넘파이 표준 데이터 타입\n",
    "\n",
    "### 3.2 넘파일 배열 속성 정보"
   ]
  },
  {
   "cell_type": "code",
   "execution_count": 28,
   "metadata": {},
   "outputs": [
    {
     "name": "stdout",
     "output_type": "stream",
     "text": [
      "[1 2 3 4 5]\n"
     ]
    }
   ],
   "source": [
    "arr = np.arange(1,6)\n",
    "print(arr)"
   ]
  },
  {
   "cell_type": "code",
   "execution_count": 31,
   "metadata": {},
   "outputs": [
    {
     "name": "stdout",
     "output_type": "stream",
     "text": [
      "ndim : 1\n"
     ]
    }
   ],
   "source": [
    "print('ndim :' ,arr.ndim)"
   ]
  },
  {
   "cell_type": "code",
   "execution_count": 32,
   "metadata": {},
   "outputs": [
    {
     "name": "stdout",
     "output_type": "stream",
     "text": [
      "shape : (5,)\n"
     ]
    }
   ],
   "source": [
    "print('shape :',arr.shape)"
   ]
  },
  {
   "cell_type": "code",
   "execution_count": 33,
   "metadata": {},
   "outputs": [
    {
     "name": "stdout",
     "output_type": "stream",
     "text": [
      "dtype :  int64\n"
     ]
    }
   ],
   "source": [
    "print('dtype : ', arr.dtype)"
   ]
  },
  {
   "cell_type": "code",
   "execution_count": 34,
   "metadata": {},
   "outputs": [
    {
     "name": "stdout",
     "output_type": "stream",
     "text": [
      "size : 5\n"
     ]
    }
   ],
   "source": [
    "print('size :', arr.size)"
   ]
  },
  {
   "cell_type": "code",
   "execution_count": 35,
   "metadata": {},
   "outputs": [
    {
     "name": "stdout",
     "output_type": "stream",
     "text": [
      "itemsize :  8\n"
     ]
    }
   ],
   "source": [
    "print('itemsize : ', arr.itemsize) # 정수는 8바이트"
   ]
  },
  {
   "cell_type": "code",
   "execution_count": 36,
   "metadata": {},
   "outputs": [
    {
     "name": "stdout",
     "output_type": "stream",
     "text": [
      "nbytes :  40\n"
     ]
    }
   ],
   "source": [
    "print('nbytes : ', arr.nbytes)"
   ]
  },
  {
   "cell_type": "markdown",
   "metadata": {},
   "source": [
    "## 3.3 배열의 인덱싱"
   ]
  },
  {
   "cell_type": "code",
   "execution_count": 37,
   "metadata": {},
   "outputs": [
    {
     "name": "stdout",
     "output_type": "stream",
     "text": [
      "[0 1 2 3 4 5 6 7 8]\n",
      "0\n",
      "8\n",
      "[10  1  2  3  4  5  6  7  8]\n"
     ]
    }
   ],
   "source": [
    "# 4-12 : 1차원 배열의 인덱싱 및 변경\n",
    "a1 = np.arange(9) # 1차원 배열\n",
    "print(a1)\n",
    "print(a1[0])\n",
    "print(a1[-1])\n",
    "a1[0]=10 # 요소 변경\n",
    "print(a1)"
   ]
  },
  {
   "cell_type": "code",
   "execution_count": 38,
   "metadata": {},
   "outputs": [
    {
     "name": "stdout",
     "output_type": "stream",
     "text": [
      "[[0 1 2]\n",
      " [3 4 5]\n",
      " [6 7 8]]\n",
      "1\n",
      "5\n",
      "[[10  1  2]\n",
      " [ 3  4  5]\n",
      " [ 6  7  8]]\n"
     ]
    }
   ],
   "source": [
    "a2 = np.arange(9).reshape((3,3)) # 2차원 배열\n",
    "print(a2)\n",
    "print(a2[0,1]) # 1행 두번째 컬럼 요소 참조\n",
    "print(a2[1,2]) # 2행 세번째 컬럼 요소 참조\n",
    "a2[0,0] = 10 # 1행 첫번째 컬럼 업데이트\n",
    "print(a2)"
   ]
  },
  {
   "cell_type": "code",
   "execution_count": 40,
   "metadata": {},
   "outputs": [
    {
     "name": "stdout",
     "output_type": "stream",
     "text": [
      "[0 1 2 3 4 5]\n",
      "[0 1 2]\n",
      "[1 2 3 4 5]\n",
      "[4 5]\n",
      "[0 1 2]\n",
      "[0 2 4]\n",
      "[5 4 3 2 1 0]\n"
     ]
    }
   ],
   "source": [
    "# 4-14 : 일차원 배열의 슬라이싱\n",
    "a1 = np.arange(6)\n",
    "print(a1)\n",
    "print(a1[0:3])\n",
    "print(a1[1:])\n",
    "print(a1[-2:])\n",
    "print(a1[:-3])\n",
    "print(a1[::2]) # with a step size of 2\n",
    "print(a1[::-1])"
   ]
  },
  {
   "cell_type": "code",
   "execution_count": 41,
   "metadata": {},
   "outputs": [
    {
     "name": "stdout",
     "output_type": "stream",
     "text": [
      "[ 7  8  9 10 11 12]\n",
      "[[ 8  9 10 11]\n",
      " [14 15 16 17]]\n",
      "[13 14 15 16 17 18]\n",
      "[[ 1  2  3]\n",
      " [ 7  8  9]\n",
      " [13 14 15]]\n",
      "[[18 17 16 15 14 13]\n",
      " [24 23 22 21 20 19]]\n",
      "[[24 23 22 21 20 19]\n",
      " [18 17 16 15 14 13]\n",
      " [12 11 10  9  8  7]\n",
      " [ 6  5  4  3  2  1]]\n"
     ]
    }
   ],
   "source": [
    "# 4-15 : 2치원 배열의 슬라이싱\n",
    "a2 = np.arange(1,25).reshape((4,6))\n",
    "print(a2[1])\n",
    "print(a2[1:3,1:5])\n",
    "print(a2[2,:])\n",
    "print(a2[:3,:3])\n",
    "print(a2[2:,::-1])\n",
    "print(a2[::-1,::-1])"
   ]
  },
  {
   "cell_type": "code",
   "execution_count": null,
   "metadata": {},
   "outputs": [],
   "source": []
  }
 ],
 "metadata": {
  "kernelspec": {
   "display_name": "myenv",
   "language": "python",
   "name": "myenv"
  },
  "language_info": {
   "codemirror_mode": {
    "name": "ipython",
    "version": 3
   },
   "file_extension": ".py",
   "mimetype": "text/x-python",
   "name": "python",
   "nbconvert_exporter": "python",
   "pygments_lexer": "ipython3",
   "version": "3.11.5"
  }
 },
 "nbformat": 4,
 "nbformat_minor": 2
}
